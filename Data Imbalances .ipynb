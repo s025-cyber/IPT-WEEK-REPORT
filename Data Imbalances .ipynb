{
 "cells": [
  {
   "cell_type": "markdown",
   "metadata": {},
   "source": [
    "- Name: Salehe Salehe S.\n",
    "- RegNo: T/UDOM/2016/07028\n",
    "- BSc TE"
   ]
  },
  {
   "cell_type": "markdown",
   "metadata": {},
   "source": [
    "<h1>Data imbalance</h1>"
   ]
  },
  {
   "cell_type": "markdown",
   "metadata": {},
   "source": [
    "<h4>Definition</h4>"
   ]
  },
  {
   "cell_type": "markdown",
   "metadata": {},
   "source": [
    "An imbalanced data means instances of one of the two classes is higher than the other, in another way, the number \n",
    "of observations is not the same for all the classes in a classification dataset.\n",
    "<h6 style =\"color:red\">This problem is faced not only in the binary class data but also in the multi-class data.</h6>"
   ]
  },
  {
   "cell_type": "markdown",
   "metadata": {},
   "source": [
    "<h4>Why data imbalanced</h4>"
   ]
  },
  {
   "cell_type": "markdown",
   "metadata": {},
   "source": [
    "Because one instance of the two classes happens to contain a lot of data compare to the other that leads to give high accuracy during model training and thus a model cram the data of only single instance and therefore, model fails to correctly predict on a new data"
   ]
  },
  {
   "cell_type": "markdown",
   "metadata": {},
   "source": [
    "<h4>What data are we balancing</h4>"
   ]
  },
  {
   "cell_type": "markdown",
   "metadata": {},
   "source": [
    "We balances data which one instance of the classes is very greater than the other which will led to the model mispredictions"
   ]
  },
  {
   "cell_type": "markdown",
   "metadata": {},
   "source": [
    "<h3>Methods used to balance data</h3>"
   ]
  },
  {
   "cell_type": "markdown",
   "metadata": {},
   "source": [
    "<h4>1: Collect More Data</h4>"
   ]
  },
  {
   "cell_type": "markdown",
   "metadata": {},
   "source": [
    "Collecting more data is more overlooked if you think it can lead to data balance, but sometimes colleacting more data can increase datasets with the same leading instance."
   ]
  },
  {
   "cell_type": "markdown",
   "metadata": {},
   "source": [
    "<h4>2: Changing Performance Metric</h4>"
   ]
  },
  {
   "cell_type": "markdown",
   "metadata": {},
   "source": [
    "Accuracy is not the metric to use when working with an imbalanced dataset. We have seen that it is misleading therefore, there are other metrics that can correctly defines the performance of imbalanced data which are as follows \n",
    "<h6><li>Confusion Matrix</li></h6>\n",
    "<p>A breakdown of predictions into a table showing correct predictions (the diagonal) and the types of incorrect predictions made (what classes incorrect predictions were assigned).</p>\n",
    "<h6><li>Precision</li></h6>\n",
    "<p> A measure of a classifiers exactness or the number of true positives divided by all positive predictions. Precision is also called Positive Predictive Value. It is a measure of a classifier’s exactness. Low precision indicates a high number of false positives.</p>\n",
    "<h6><li>Recall</li></h6>\n",
    "<p> A measure of a classifiers completeness or  the number of true positives divided by the number of positive values in the test data. Recall is also called Sensitivity or the True Positive Rate. It is a measure of a classifier’s completeness. Low recall indicates a high number of false negatives.</p>\n",
    "<h6><li>F1: Score</li></h6>\n",
    "<p>The weighted average of precision and recall.</p>\n",
    "<h6><li>Kappa</li></h6>\n",
    "<p>Classification accuracy normalized by the imbalance of the classes in the data.</p>\n",
    "<h6><li>ROC Curves</li></h6>\n",
    "<p> Like precision and recall, accuracy is divided into sensitivity and specificity and models can be chosen based on the balance thresholds of these values.</p>\n"
   ]
  },
  {
   "cell_type": "markdown",
   "metadata": {},
   "source": [
    "<h4>3: Dataset Resampling</h4>\n",
    "<h6>- Undersample majority class</h6>\n",
    "<h6>- Oversample minority class</h6>"
   ]
  },
  {
   "cell_type": "markdown",
   "metadata": {},
   "source": [
    "This means change the dataset that you use to build your predictive model to have more balanced data.\n",
    "<h6>This change is called sampling your dataset and there are two main methods </h6>\n",
    "<li>You can add copies of instances from the under-represented class called over-sampling (or more formally sampling with replacement)</li>\n",
    "<li>You can delete instances from the over-represented class, called under-sampling.</li>\n",
    "<h5>Some Rules of Thumb</h5>\n",
    "<li>Consider testing under-sampling when you have an a lot data (tens- or hundreds of thousands of instances or more)</li>\n",
    "<li>Consider testing over-sampling when you don’t have a lot of data (tens of thousands of records or less)</li>\n",
    "<li>Consider testing random and non-random (e.g. stratified) sampling schemes</li>\n",
    "<li>Consider testing different resampled ratios (e.g. you don’t have to target a 1:1 ratio in a binary classification problem, try other ratios)</li>"
   ]
  },
  {
   "cell_type": "markdown",
   "metadata": {},
   "source": [
    "<h4>4: Using Different Algorithms</h4>"
   ]
  },
  {
   "cell_type": "markdown",
   "metadata": {},
   "source": [
    "It strongly recommended to not use your favorite algorithm on every problem. You should at least be spot-checking a variety of different types of algorithms on a given problem."
   ]
  },
  {
   "cell_type": "markdown",
   "metadata": {},
   "source": [
    "<h4>5: Penalized Models</h4>"
   ]
  },
  {
   "cell_type": "markdown",
   "metadata": {},
   "source": [
    "Penalized classification imposes an additional cost on the model for making classification mistakes on the minority class during training. These penalties can bias the model to pay more attention to the minority class."
   ]
  },
  {
   "cell_type": "markdown",
   "metadata": {},
   "source": [
    "<h4>6: Generate Synthetic Samples</h4>"
   ]
  },
  {
   "cell_type": "markdown",
   "metadata": {},
   "source": [
    "To generate synthetic samples is to randomly sample the attributes from instances in the minority class.\n",
    "Method like Naive Bayes that can sample each attribute independently when run in reverse."
   ]
  },
  {
   "cell_type": "markdown",
   "metadata": {},
   "source": [
    "<h2>Visualize the data</h2>\n",
    "<h4>Before balancing</h4>"
   ]
  },
  {
   "cell_type": "code",
   "execution_count": 18,
   "metadata": {},
   "outputs": [],
   "source": [
    "import numpy as np\n",
    "import pandas as pd\n",
    "import seaborn as sns\n",
    "import matplotlib.pyplot as plt\n",
    "%matplotlib inline"
   ]
  },
  {
   "cell_type": "code",
   "execution_count": 19,
   "metadata": {},
   "outputs": [],
   "source": [
    "data= pd.read_csv('data/train_data_week_1_challenge.csv')"
   ]
  },
  {
   "cell_type": "code",
   "execution_count": 20,
   "metadata": {},
   "outputs": [],
   "source": [
    "data= data.replace({'drop':0,'continue':1})"
   ]
  },
  {
   "cell_type": "code",
   "execution_count": 21,
   "metadata": {},
   "outputs": [
    {
     "data": {
      "text/html": [
       "<div>\n",
       "<style scoped>\n",
       "    .dataframe tbody tr th:only-of-type {\n",
       "        vertical-align: middle;\n",
       "    }\n",
       "\n",
       "    .dataframe tbody tr th {\n",
       "        vertical-align: top;\n",
       "    }\n",
       "\n",
       "    .dataframe thead th {\n",
       "        text-align: right;\n",
       "    }\n",
       "</style>\n",
       "<table border=\"1\" class=\"dataframe\">\n",
       "  <thead>\n",
       "    <tr style=\"text-align: right;\">\n",
       "      <th></th>\n",
       "      <th>continue_drop</th>\n",
       "      <th>student_id</th>\n",
       "      <th>gender</th>\n",
       "      <th>caste</th>\n",
       "      <th>mathematics_marks</th>\n",
       "      <th>english_marks</th>\n",
       "      <th>science_marks</th>\n",
       "      <th>science_teacher</th>\n",
       "      <th>languages_teacher</th>\n",
       "      <th>guardian</th>\n",
       "      <th>internet</th>\n",
       "      <th>school_id</th>\n",
       "      <th>total_students</th>\n",
       "      <th>total_toilets</th>\n",
       "      <th>establishment_year</th>\n",
       "    </tr>\n",
       "  </thead>\n",
       "  <tbody>\n",
       "    <tr>\n",
       "      <th>0</th>\n",
       "      <td>1</td>\n",
       "      <td>s01746</td>\n",
       "      <td>M</td>\n",
       "      <td>BC</td>\n",
       "      <td>0.666</td>\n",
       "      <td>0.468</td>\n",
       "      <td>0.666</td>\n",
       "      <td>7</td>\n",
       "      <td>6</td>\n",
       "      <td>other</td>\n",
       "      <td>True</td>\n",
       "      <td>305</td>\n",
       "      <td>354</td>\n",
       "      <td>86.0</td>\n",
       "      <td>1986.0</td>\n",
       "    </tr>\n",
       "    <tr>\n",
       "      <th>1</th>\n",
       "      <td>1</td>\n",
       "      <td>s16986</td>\n",
       "      <td>M</td>\n",
       "      <td>BC</td>\n",
       "      <td>0.172</td>\n",
       "      <td>0.420</td>\n",
       "      <td>0.172</td>\n",
       "      <td>8</td>\n",
       "      <td>10</td>\n",
       "      <td>mother</td>\n",
       "      <td>False</td>\n",
       "      <td>331</td>\n",
       "      <td>516</td>\n",
       "      <td>15.0</td>\n",
       "      <td>1996.0</td>\n",
       "    </tr>\n",
       "    <tr>\n",
       "      <th>2</th>\n",
       "      <td>1</td>\n",
       "      <td>s00147</td>\n",
       "      <td>F</td>\n",
       "      <td>BC</td>\n",
       "      <td>0.212</td>\n",
       "      <td>0.601</td>\n",
       "      <td>0.212</td>\n",
       "      <td>1</td>\n",
       "      <td>4</td>\n",
       "      <td>mother</td>\n",
       "      <td>False</td>\n",
       "      <td>311</td>\n",
       "      <td>209</td>\n",
       "      <td>14.0</td>\n",
       "      <td>1976.0</td>\n",
       "    </tr>\n",
       "    <tr>\n",
       "      <th>3</th>\n",
       "      <td>1</td>\n",
       "      <td>s08104</td>\n",
       "      <td>F</td>\n",
       "      <td>ST</td>\n",
       "      <td>0.434</td>\n",
       "      <td>0.611</td>\n",
       "      <td>0.434</td>\n",
       "      <td>2</td>\n",
       "      <td>5</td>\n",
       "      <td>father</td>\n",
       "      <td>True</td>\n",
       "      <td>364</td>\n",
       "      <td>147</td>\n",
       "      <td>28.0</td>\n",
       "      <td>1911.0</td>\n",
       "    </tr>\n",
       "    <tr>\n",
       "      <th>4</th>\n",
       "      <td>1</td>\n",
       "      <td>s11132</td>\n",
       "      <td>F</td>\n",
       "      <td>SC</td>\n",
       "      <td>0.283</td>\n",
       "      <td>0.478</td>\n",
       "      <td>0.283</td>\n",
       "      <td>1</td>\n",
       "      <td>10</td>\n",
       "      <td>mother</td>\n",
       "      <td>True</td>\n",
       "      <td>394</td>\n",
       "      <td>122</td>\n",
       "      <td>15.0</td>\n",
       "      <td>1889.0</td>\n",
       "    </tr>\n",
       "  </tbody>\n",
       "</table>\n",
       "</div>"
      ],
      "text/plain": [
       "   continue_drop student_id gender caste  mathematics_marks  english_marks  \\\n",
       "0              1     s01746      M    BC              0.666          0.468   \n",
       "1              1     s16986      M    BC              0.172          0.420   \n",
       "2              1     s00147      F    BC              0.212          0.601   \n",
       "3              1     s08104      F    ST              0.434          0.611   \n",
       "4              1     s11132      F    SC              0.283          0.478   \n",
       "\n",
       "   science_marks  science_teacher  languages_teacher guardian  internet  \\\n",
       "0          0.666                7                  6    other      True   \n",
       "1          0.172                8                 10   mother     False   \n",
       "2          0.212                1                  4   mother     False   \n",
       "3          0.434                2                  5   father      True   \n",
       "4          0.283                1                 10   mother      True   \n",
       "\n",
       "   school_id  total_students  total_toilets  establishment_year  \n",
       "0        305             354           86.0              1986.0  \n",
       "1        331             516           15.0              1996.0  \n",
       "2        311             209           14.0              1976.0  \n",
       "3        364             147           28.0              1911.0  \n",
       "4        394             122           15.0              1889.0  "
      ]
     },
     "execution_count": 21,
     "metadata": {},
     "output_type": "execute_result"
    }
   ],
   "source": [
    "data.head()"
   ]
  },
  {
   "cell_type": "code",
   "execution_count": 22,
   "metadata": {},
   "outputs": [
    {
     "data": {
      "text/html": [
       "<div>\n",
       "<style scoped>\n",
       "    .dataframe tbody tr th:only-of-type {\n",
       "        vertical-align: middle;\n",
       "    }\n",
       "\n",
       "    .dataframe tbody tr th {\n",
       "        vertical-align: top;\n",
       "    }\n",
       "\n",
       "    .dataframe thead th {\n",
       "        text-align: right;\n",
       "    }\n",
       "</style>\n",
       "<table border=\"1\" class=\"dataframe\">\n",
       "  <thead>\n",
       "    <tr style=\"text-align: right;\">\n",
       "      <th></th>\n",
       "      <th>continue_drop</th>\n",
       "      <th>student_id</th>\n",
       "      <th>gender</th>\n",
       "      <th>caste</th>\n",
       "      <th>mathematics_marks</th>\n",
       "      <th>english_marks</th>\n",
       "      <th>science_marks</th>\n",
       "      <th>science_teacher</th>\n",
       "      <th>languages_teacher</th>\n",
       "      <th>guardian</th>\n",
       "      <th>internet</th>\n",
       "      <th>school_id</th>\n",
       "      <th>total_students</th>\n",
       "      <th>total_toilets</th>\n",
       "      <th>establishment_year</th>\n",
       "    </tr>\n",
       "  </thead>\n",
       "  <tbody>\n",
       "    <tr>\n",
       "      <th>17185</th>\n",
       "      <td>0</td>\n",
       "      <td>s10634</td>\n",
       "      <td>M</td>\n",
       "      <td>BC</td>\n",
       "      <td>0.389</td>\n",
       "      <td>0.216</td>\n",
       "      <td>0.389</td>\n",
       "      <td>6</td>\n",
       "      <td>5</td>\n",
       "      <td>mother</td>\n",
       "      <td>True</td>\n",
       "      <td>334</td>\n",
       "      <td>571</td>\n",
       "      <td>61.0</td>\n",
       "      <td>1924.0</td>\n",
       "    </tr>\n",
       "    <tr>\n",
       "      <th>17186</th>\n",
       "      <td>1</td>\n",
       "      <td>s16358</td>\n",
       "      <td>M</td>\n",
       "      <td>BC</td>\n",
       "      <td>0.686</td>\n",
       "      <td>0.830</td>\n",
       "      <td>0.686</td>\n",
       "      <td>2</td>\n",
       "      <td>0</td>\n",
       "      <td>mother</td>\n",
       "      <td>True</td>\n",
       "      <td>334</td>\n",
       "      <td>571</td>\n",
       "      <td>61.0</td>\n",
       "      <td>1924.0</td>\n",
       "    </tr>\n",
       "    <tr>\n",
       "      <th>17187</th>\n",
       "      <td>1</td>\n",
       "      <td>s03789</td>\n",
       "      <td>F</td>\n",
       "      <td>BC</td>\n",
       "      <td>0.390</td>\n",
       "      <td>0.497</td>\n",
       "      <td>0.390</td>\n",
       "      <td>3</td>\n",
       "      <td>2</td>\n",
       "      <td>mother</td>\n",
       "      <td>True</td>\n",
       "      <td>321</td>\n",
       "      <td>35</td>\n",
       "      <td>1.0</td>\n",
       "      <td>1983.0</td>\n",
       "    </tr>\n",
       "    <tr>\n",
       "      <th>17188</th>\n",
       "      <td>1</td>\n",
       "      <td>s06904</td>\n",
       "      <td>F</td>\n",
       "      <td>SC</td>\n",
       "      <td>0.304</td>\n",
       "      <td>0.556</td>\n",
       "      <td>0.304</td>\n",
       "      <td>9</td>\n",
       "      <td>10</td>\n",
       "      <td>father</td>\n",
       "      <td>True</td>\n",
       "      <td>334</td>\n",
       "      <td>571</td>\n",
       "      <td>61.0</td>\n",
       "      <td>1924.0</td>\n",
       "    </tr>\n",
       "    <tr>\n",
       "      <th>17189</th>\n",
       "      <td>1</td>\n",
       "      <td>s16057</td>\n",
       "      <td>F</td>\n",
       "      <td>SC</td>\n",
       "      <td>0.566</td>\n",
       "      <td>0.495</td>\n",
       "      <td>0.566</td>\n",
       "      <td>0</td>\n",
       "      <td>4</td>\n",
       "      <td>father</td>\n",
       "      <td>True</td>\n",
       "      <td>315</td>\n",
       "      <td>280</td>\n",
       "      <td>1.0</td>\n",
       "      <td>1923.0</td>\n",
       "    </tr>\n",
       "  </tbody>\n",
       "</table>\n",
       "</div>"
      ],
      "text/plain": [
       "       continue_drop student_id gender caste  mathematics_marks  \\\n",
       "17185              0     s10634      M    BC              0.389   \n",
       "17186              1     s16358      M    BC              0.686   \n",
       "17187              1     s03789      F    BC              0.390   \n",
       "17188              1     s06904      F    SC              0.304   \n",
       "17189              1     s16057      F    SC              0.566   \n",
       "\n",
       "       english_marks  science_marks  science_teacher  languages_teacher  \\\n",
       "17185          0.216          0.389                6                  5   \n",
       "17186          0.830          0.686                2                  0   \n",
       "17187          0.497          0.390                3                  2   \n",
       "17188          0.556          0.304                9                 10   \n",
       "17189          0.495          0.566                0                  4   \n",
       "\n",
       "      guardian  internet  school_id  total_students  total_toilets  \\\n",
       "17185   mother      True        334             571           61.0   \n",
       "17186   mother      True        334             571           61.0   \n",
       "17187   mother      True        321              35            1.0   \n",
       "17188   father      True        334             571           61.0   \n",
       "17189   father      True        315             280            1.0   \n",
       "\n",
       "       establishment_year  \n",
       "17185              1924.0  \n",
       "17186              1924.0  \n",
       "17187              1983.0  \n",
       "17188              1924.0  \n",
       "17189              1923.0  "
      ]
     },
     "execution_count": 22,
     "metadata": {},
     "output_type": "execute_result"
    }
   ],
   "source": [
    "data.tail()"
   ]
  },
  {
   "cell_type": "code",
   "execution_count": 23,
   "metadata": {},
   "outputs": [
    {
     "data": {
      "image/png": "[encoded data removed]",
      "text/plain": [
       "<matplotlib.figure.Figure at 0x1fb29d974e0>"
      ]
     },
     "metadata": {},
     "output_type": "display_data"
    }
   ],
   "source": [
    "plt.figure(figsize=(5,5))\n",
    "sns.countplot(data = data, x = 'continue_drop')\n",
    "plt.title(\"Graph showin data imbalance between continue , Drop) \", fontsize = 25)\n",
    "plt.xlabel(\"Continue and Drop\", fontsize = 10);\n",
    "plt.ylabel(\"Number of Students\", fontsize = 10);\n",
    "labels = ['Continue ','Drop ']\n",
    "val = [1,0] \n",
    "plt.xticks(val, labels);"
   ]
  },
  {
   "cell_type": "markdown",
   "metadata": {},
   "source": [
    "From the diagram above the iinstance of continue in continue_drop class is higher than drop thus, data imbalance "
   ]
  },
  {
   "cell_type": "markdown",
   "metadata": {},
   "source": [
    "<h2>Data balancing</h2>"
   ]
  },
  {
   "cell_type": "code",
   "execution_count": 24,
   "metadata": {},
   "outputs": [],
   "source": [
    "#handling imbalance class\n",
    "data_majority = data[data['continue_drop']==1]\n",
    "data_minority = data[data['continue_drop']==0]"
   ]
  },
  {
   "cell_type": "code",
   "execution_count": 25,
   "metadata": {},
   "outputs": [],
   "source": [
    "# get class counts \n",
    "count_drop,count_continue = data['continue_drop'].value_counts()"
   ]
  },
  {
   "cell_type": "markdown",
   "metadata": {},
   "source": [
    "#### over sampling majority class"
   ]
  },
  {
   "cell_type": "code",
   "execution_count": 26,
   "metadata": {},
   "outputs": [],
   "source": [
    "#sampling using sample method\n",
    "oversmp = data_minority.sample(count_drop,replace=True)"
   ]
  },
  {
   "cell_type": "code",
   "execution_count": 27,
   "metadata": {},
   "outputs": [],
   "source": [
    "balanced_data = pd.concat([oversmp,data_majority], axis = 0)"
   ]
  },
  {
   "cell_type": "markdown",
   "metadata": {},
   "source": [
    "### After balancing "
   ]
  },
  {
   "cell_type": "code",
   "execution_count": 28,
   "metadata": {},
   "outputs": [
    {
     "data": {
      "image/png": "[encoded data removed]",
      "text/plain": [
       "<matplotlib.figure.Figure at 0x1fb29d96208>"
      ]
     },
     "metadata": {},
     "output_type": "display_data"
    }
   ],
   "source": [
    "# Visualize the target After balancing\n",
    "plt.figure(figsize=(5,5))\n",
    "sns.countplot(balanced_data['continue_drop'])\n",
    "plt.title(\"Graph showin balanced data after over sampling of Drop instance \", fontsize = 10)\n",
    "plt.xlabel(\"Continue and Drop\", fontsize = 10);\n",
    "plt.ylabel(\"Number of Students\", fontsize = 10);\n",
    "labels = ['Continue','Drop']\n",
    "val = [1,0] \n",
    "plt.xticks(val, labels);"
   ]
  }
 ],
 "metadata": {
  "kernelspec": {
   "display_name": "Python 3",
   "language": "python",
   "name": "python3"
  },
  "language_info": {
   "codemirror_mode": {
    "name": "ipython",
    "version": 3
   },
   "file_extension": ".py",
   "mimetype": "text/x-python",
   "name": "python",
   "nbconvert_exporter": "python",
   "pygments_lexer": "ipython3",
   "version": "3.6.4"
  }
 },
 "nbformat": 4,
 "nbformat_minor": 2
}
